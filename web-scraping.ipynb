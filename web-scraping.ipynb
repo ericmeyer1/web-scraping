{
 "cells": [
  {
   "cell_type": "markdown",
   "metadata": {},
   "source": [
    "# Web Mining and Applied NLP (44-620)\n",
    "\n",
    "## Web Scraping and NLP with Requests, BeautifulSoup, and spaCy\n",
    "\n",
    "### Student Name: Eric Meyer\n",
    "\n",
    "#### Module 6 Repo: https://github.com/ericmeyer1/web-scraping\n",
    "\n",
    "Perform the tasks described in the Markdown cells below.  When you have completed the assignment make sure your code cells have all been run (and have output beneath them) and ensure you have committed and pushed ALL of your changes to your assignment repository.\n",
    "\n",
    "Every question that requires you to write code will have a code cell underneath it; you may either write your entire solution in that cell or write it in a python file (`.py`), then import and run the appropriate code to answer the question."
   ]
  },
  {
   "cell_type": "code",
   "execution_count": null,
   "metadata": {},
   "outputs": [
    {
     "name": "stdout",
     "output_type": "stream",
     "text": [
      "Package            Version\n",
      "------------------ ------------\n",
      "annotated-types    0.7.0\n",
      "asttokens          2.4.1\n",
      "blis               1.0.1\n",
      "bs4                0.0.2\n",
      "catalogue          2.0.10\n",
      "certifi            2024.8.30\n",
      "charset-normalizer 3.4.0\n",
      "click              8.1.7\n",
      "cloudpathlib       0.20.0\n",
      "colorama           0.4.6\n",
      "comm               0.2.2\n",
      "confection         0.1.5\n",
      "cymem              2.0.8\n",
      "debugpy            1.8.8\n",
      "decorator          5.1.1\n",
      "en_core_web_sm     3.8.0\n",
      "executing          2.1.0\n",
      "html5lib           1.1\n",
      "idna               3.10\n",
      "ipykernel          6.29.5\n",
      "ipython            8.29.0\n",
      "jedi               0.19.1\n",
      "Jinja2             3.1.4\n",
      "joblib             1.4.2\n",
      "jupyter_client     8.6.3\n",
      "jupyter_core       5.7.2\n",
      "langcodes          3.4.1\n",
      "language_data      1.2.0\n",
      "marisa-trie        1.2.1\n",
      "markdown-it-py     3.0.0\n",
      "MarkupSafe         3.0.2\n",
      "matplotlib-inline  0.1.7\n",
      "mdurl              0.1.2\n",
      "murmurhash         1.0.10\n",
      "nest-asyncio       1.6.0\n",
      "nltk               3.9.1\n",
      "numpy              2.0.2\n",
      "packaging          24.2\n",
      "parso              0.8.4\n",
      "pip                24.3.1\n",
      "platformdirs       4.3.6\n",
      "preshed            3.0.9\n",
      "prompt_toolkit     3.0.48\n",
      "psutil             6.1.0\n",
      "pure_eval          0.2.3\n",
      "pydantic           2.9.2\n",
      "pydantic_core      2.23.4\n",
      "Pygments           2.18.0\n",
      "python-dateutil    2.9.0.post0\n",
      "pywin32            308\n",
      "pyzmq              26.2.0\n",
      "regex              2024.11.6\n",
      "requests           2.32.3\n",
      "rich               13.9.4\n",
      "setuptools         75.4.0\n",
      "shellingham        1.5.4\n",
      "six                1.16.0\n",
      "smart-open         7.0.5\n",
      "soupsieve          2.6\n",
      "spacy              3.8.2\n",
      "spacy-legacy       3.0.12\n",
      "spacy-loggers      1.0.5\n",
      "spacytextblob      5.0.0\n",
      "srsly              2.4.8\n",
      "stack-data         0.6.3\n",
      "textblob           0.18.0.post0\n",
      "thinc              8.3.2\n",
      "tornado            6.4.1\n",
      "tqdm               4.67.0\n",
      "traitlets          5.14.3\n",
      "typer              0.13.0\n",
      "typing_extensions  4.12.2\n",
      "urllib3            2.2.3\n",
      "wasabi             1.1.3\n",
      "wcwidth            0.2.13\n",
      "weasel             0.4.1\n",
      "webencodings       0.5.1\n",
      "wheel              0.45.0\n",
      "wrapt              1.16.0\n",
      "All prereqs installed.\n"
     ]
    }
   ],
   "source": [
    "# Testing for all correct libraries installed for the assignment\n",
    "from collections import Counter\n",
    "import pickle\n",
    "import requests\n",
    "import spacy\n",
    "from bs4 import BeautifulSoup\n",
    "import matplotlib.pyplot as plt\n",
    "\n",
    "!pip list\n",
    "\n",
    "print('All prereqs installed.')"
   ]
  },
  {
   "cell_type": "markdown",
   "metadata": {},
   "source": [
    "#### Question 1:\n",
    "Write code that extracts the article html from https://web.archive.org/web/20210327165005/https://hackaday.com/2021/03/22/how-laser-headlights-work/ and dumps it to a .pkl (or other appropriate file)."
   ]
  },
  {
   "cell_type": "code",
   "execution_count": 10,
   "metadata": {},
   "outputs": [
    {
     "name": "stdout",
     "output_type": "stream",
     "text": [
      "HTML content successfully saved to article_html.pkl\n"
     ]
    }
   ],
   "source": [
    "# Importing requests, beautifulsoup, and pickle packages\n",
    "import requests\n",
    "from bs4 import BeautifulSoup\n",
    "import pickle\n",
    "\n",
    "# Designating the url as a variable\n",
    "url = \"https://web.archive.org/web/20210327165005/https://hackaday.com/2021/03/22/how-laser-headlights-work/\"\n",
    "# Using a get request to gather data from webpage\n",
    "response = requests.get(url)\n",
    "\n",
    "# Using if/else to test request results and if good, getting html  with beautifulsoup and storing as a pickle file\n",
    "if response.status_code == 200:\n",
    "    # Parse the HTML with BeautifulSoup\n",
    "    soup = BeautifulSoup(response.text, \"html.parser\")\n",
    "    articleHtml = str(soup)\n",
    "\n",
    "    # Save the parsed HTML content to a .pkl file\n",
    "    with open(\"article_html.pkl\", \"wb\") as file:\n",
    "        pickle.dump(articleHtml, file)\n",
    "    print(\"HTML content successfully saved to article_html.pkl\")\n",
    "else:\n",
    "    print(f\"Failed to fetch the page. Status code: {response.status_code}\")"
   ]
  },
  {
   "cell_type": "markdown",
   "metadata": {},
   "source": [
    "#### Question 2:\n",
    "Read in your article's html source from the file you created in question 1 and print it's text (use `.get_text()`)"
   ]
  },
  {
   "cell_type": "code",
   "execution_count": 12,
   "metadata": {},
   "outputs": [
    {
     "name": "stdout",
     "output_type": "stream",
     "text": [
      "\n",
      "\n",
      "How Laser Headlights Work\n",
      "\n",
      "\n",
      "                130 Comments            \n",
      "\n",
      "by:\n",
      "Lewin Day\n",
      "\n",
      "\n",
      "\n",
      "March 22, 2021\n",
      "\n",
      "\n",
      "\n",
      "\n",
      "\n",
      "\n",
      "\n",
      "\n",
      "When we think about the onward march of automotive technology, headlights aren’t usually the first thing that come to mind. Engines, fuel efficiency, and the switch to electric power are all more front of mind. However, that doesn’t mean there aren’t thousands of engineers around the world working to improve the state of the art in automotive lighting day in, day out.\n",
      "Sealed beam headlights gave way to more modern designs once regulations loosened up, while bulbs moved from simple halogens to xenon HIDs and, more recently, LEDs. Now, a new technology is on the scene, with lasers!\n",
      "\n",
      "Laser Headlights?!\n",
      "BWM’s prototype laser headlight assemblies undergoing testing.\n",
      "The first image brought to mind by the phrase “laser headlights” is that of laser beams firing out the front of an automobile. Obviously, coherent beams of monochromatic light would make for poor illumination outside of a very specific spot quite some distance away. Thankfully for our eyes, laser headlights don’t work in this way at all.\n",
      "Instead, laser headlights consist of one or more solid state laser diodes mounted inside the headlight. These blue lasers are fired at a yellow phosphor, similar to that used in white LEDs. This produces a powerful, vibrant white light that can then be bounced off reflectors and out of the headlights towards the road. Laser headlights built in this way have several benefits. They’re more energy efficient than LEDs that put out the same amount of light, while also being more space efficient, too.\n",
      "BWM’s futuristic i8 was one of the first vehicles to ship with laser headlight technology.\n",
      "Laser headlights are still a nascent technology, thus far only appearing in a few BMW, Audi, and other select vehicles. BMW’s technology was developed in partnership with lighting experts OSRAM. In practice, a regular LED low-beam lamp is used, with the laser used to create an incredibly bright and focused spot, used for high-beams. This can provide illumination out to 600 meters ahead of the vehicle, double that of conventional LED high beams. The lights use indium gallium nitride diode lasers that were originally used in projectors, with power levels above 1 watt. One of the challenges in implementing such technology in an automotive environment is the need for it to operate at temperature extremes. While research lasers and laser pointers may primarily be used at typical room temperatures, automotive headlights must be able to withstand everything from 40 degrees below zero up to 50 degrees C. Thankfully, the laser’s high efficiency means it doesn’t have huge heat output of its own to further complicate things. Other engineering challenges involve tailoring the optics package for the rough-and-tumble, high vibration environment found in the automotive application. It’s also important to ensure, as with any such device, that the end user can’t be exposed to harmful laser radiation in the event of accident or malfunction.\n",
      "Tearing Down the Laser Headlight\n",
      "A marketing image showing the construction of an aftermarket LED/laser headlight. We’d take the laser power with a grain of salt — it’s difficult to imagine a 10 W laser shining directly on some small LEDs without melting a hole through the board in short order.\n",
      "An aftermarket has sprung up too, with delightfully innovative designs. Combined laser/LED headlights are readily available on Alibaba, designed as a drop in replacement for projector lamps on existing vehicles. These often use an LED low-beam, and a combined LED/laser high beam, where the laser diode shoots directly at the LED phosphor to excite it further, rather than using its own. These units often also come with fan cooling to keep the laser and LEDs below their maximum operational temperature. Such developments are exciting, though it’s important to be wary of the performance of unknown aftermarket headlights. Many aftermarket LED headlight “upgrades” fail to pass muster when it comes to real-world performance, and there’s no reason to believe hybrid LED/laser designs will be any different. We’d love to pass a selection of these parts through a full IIHS test protocol, but that’s sadly beyond the scope (and budget!) of this article.\n",
      "However, [mikeselectricstuff] has happened to lay his hands on both the BMW and aftermarket parts, tearing them all down in his workshop to see what makes them tick. The differences are multitude when laid bare on the bench. The AliExpress part is relatively simple, wired up no differently from a regular headlight. Interestingly, however, the laser high-beam circuit runs all the time in these parts. To prevent blinding other road users, a shutter is kept in place to block the light, which is moved out of the way with a solenoid when the driver turns on the high beam switch.\n",
      "Where the aftermarket part is a little out of left field, the BMW design is another thing entirely. The cutting-edge headlights are hooked up with multiple connectors and over 30 conductors, with much of the driver electronics living in an external controller. Much of this is to drive the various LEDs and stepper motors for slewing the headlights when steering. However, the laser assembly brings its own complexities. Twin light sensors are built inside to monitor the laser beam, and a special metal blocking arm sits directly in front of the diode, presumably to stop the laser light leaving the headlight in the event the phosphor coating burns through. It’s truly wild to get a look inside a modern luxury car’s headlight and see just how far we’ve come from the old days of simple sealed beams.\n",
      "Cost Versus Performance\n",
      "Despite the efficiency gains available, the technology remains expensive. Powerful laser diodes don’t come cheap, after all. However, as the technology trickles down to lower-end models, it’s likely that we could see economies of scale change that for the better. Indeed, if national authorities begin to demand higher performance headlights as standard, we could see laser headlights become the norm, rather than an expensive luxury. The technology could naturally be applied to home and commercial lighting, too — though we suspect the potential gains are limited enough that LED lighting will remain the norm for some time to come.\n",
      "The high light output of laser headlights in a compact package allows engineers greater freedom when designing the front-end of a car.\n",
      "As it currently stands, much of the appeal of the new technology is about the packaging benefits, which allow automotive designers greater freedom around the headlight area. Such concerns are less of a factor when it comes to light fittings in the home or office, or indeed, on lower-end automobiles. Regardless, it’s an exciting new application for lasers and one we’ll be sure to see more of in the future.\n",
      " \n",
      "\n",
      "\n",
      "\n",
      "\n",
      " \n",
      "\n",
      "\n",
      "\n",
      "\n",
      "\n",
      "\n",
      "\n",
      "\n",
      "\n",
      "\n",
      "\n",
      "\n",
      "\n",
      "\n",
      "\n",
      "\n",
      "\n",
      "\n",
      "\n",
      "Posted in car hacks, Engineering, Featured, Laser Hacks, SliderTagged laser, laser headlight, laser headlights, light \n",
      "\n"
     ]
    }
   ],
   "source": [
    "# Loading the HTML content from the .pkl file\n",
    "with open(\"article_html.pkl\", \"rb\") as file:\n",
    "    htmlContent = pickle.load(file)\n",
    "\n",
    "# Parsing the loaded HTML with BeautifulSoup\n",
    "soup = BeautifulSoup(htmlContent, \"html.parser\")\n",
    "\n",
    "# Trying to get only the article we are after from this webpage\n",
    "onlyArticle = soup.find('article')\n",
    "\n",
    "# Extracting and printing the plain text content of the HTML\n",
    "articleText = onlyArticle.get_text()\n",
    "print(articleText)"
   ]
  },
  {
   "cell_type": "markdown",
   "metadata": {},
   "source": [
    "#### Question 3:\n",
    "Load the article text into a trained `spaCy` pipeline, and determine the 5 most frequent tokens (converted to lower case).  Print the common tokens with an appropriate label.  Additionally, print the tokens their frequencies (with appropriate labels). Make sure to remove things we don't care about (punctuation, stopwords, whitespace)."
   ]
  },
  {
   "cell_type": "code",
   "execution_count": null,
   "metadata": {},
   "outputs": [
    {
     "name": "stdout",
     "output_type": "stream",
     "text": [
      "Top 5 Most Frequent Tokens:\n",
      "Token: 'laser', Frequency: 35\n",
      "Token: 'headlights', Frequency: 19\n",
      "Token: 'headlight', Frequency: 11\n",
      "Token: 'technology', Frequency: 10\n",
      "Token: 'led', Frequency: 10\n"
     ]
    }
   ],
   "source": [
    "# Importing spacy and counter for this portion of the project\n",
    "import spacy\n",
    "from collections import Counter\n",
    "\n",
    "# Loading the spaCy model\n",
    "nlp = spacy.load(\"en_core_web_sm\")\n",
    "\n",
    "# Processing the text with spaCy\n",
    "doc = nlp(articleText)\n",
    "\n",
    "# Filter tokens: remove stopwords, punctuation, and whitespace\n",
    "tokens = [\n",
    "    token.text.lower() for token in doc\n",
    "    if not token.is_stop and not token.is_punct and not token.is_space\n",
    "]\n",
    "\n",
    "# Count token frequencies\n",
    "tokenCounts = Counter(tokens)\n",
    "\n",
    "# Get the 5 most common tokens\n",
    "mostCommonTokens = tokenCounts.most_common(5)\n",
    "\n",
    "# Print the results\n",
    "print(\"Top 5 Most Frequent Tokens:\")\n",
    "for token, freq in mostCommonTokens:\n",
    "    print(f\"Token: '{token}', Frequency: {freq}\")"
   ]
  },
  {
   "cell_type": "markdown",
   "metadata": {},
   "source": [
    "#### Question 4:\n",
    "Load the article text into a trained `spaCy` pipeline, and determine the 5 most frequent lemmas (converted to lower case).  Print the common lemmas with an appropriate label.  Additionally, print the lemmas with their frequencies (with appropriate labels). Make sure to remove things we don't care about (punctuation, stopwords, whitespace)."
   ]
  },
  {
   "cell_type": "code",
   "execution_count": null,
   "metadata": {},
   "outputs": [
    {
     "name": "stdout",
     "output_type": "stream",
     "text": [
      "Top 5 Most Frequent Lemmas:\n",
      "Lemma: 'laser', Frequency: 40\n",
      "Lemma: 'headlight', Frequency: 28\n",
      "Lemma: 'beam', Frequency: 12\n",
      "Lemma: 'technology', Frequency: 10\n",
      "Lemma: 'led', Frequency: 10\n"
     ]
    }
   ],
   "source": [
    "# Filtering lemmas: removing stopwords, punctuation, and whitespace (NOTE: using doc variable from previous step which is the nlp result of our article text)\n",
    "lemmas = [\n",
    "    token.lemma_.lower() for token in doc\n",
    "    if not token.is_stop and not token.is_punct and not token.is_space\n",
    "]\n",
    "\n",
    "# Counting lemma frequencies\n",
    "lemmaCounts = Counter(lemmas)\n",
    "\n",
    "# Getting the 5 most common lemmas\n",
    "mostCommonLemmas = lemmaCounts.most_common(5)\n",
    "\n",
    "# Printing the results\n",
    "print(\"Top 5 Most Frequent Lemmas:\")\n",
    "for lemma, freq in mostCommonLemmas:\n",
    "    print(f\"Lemma: '{lemma}', Frequency: {freq}\")"
   ]
  },
  {
   "cell_type": "markdown",
   "metadata": {},
   "source": [
    "#### Question 5:\n",
    "Define the following methods:\n",
    "- `score_sentence_by_token(sentence, interesting_token)` that takes a sentence and a list of interesting token and returns the number of times that any of the interesting words appear in the sentence divided by the number of words in the sentence\n",
    "-  `score_sentence_by_lemma(sentence, interesting_lemmas)` that takes a sentence and a list of interesting lemmas and returns the number of times that any of the interesting lemmas appear in the sentence divided by the number of words in the sentence\n",
    "    \n",
    "You may find some of the code from the in class notes useful; feel free to use methods (rewrite them in this cell as well).  Test them by showing the score of the first sentence in your article using the frequent tokens and frequent lemmas identified in question 3."
   ]
  },
  {
   "cell_type": "code",
   "execution_count": 29,
   "metadata": {},
   "outputs": [
    {
     "name": "stdout",
     "output_type": "stream",
     "text": [
      "First Sentence:\n",
      "\n",
      "\n",
      "How Laser Headlights Work\n",
      "\n",
      "\n",
      "                130 Comments            \n",
      "\n",
      "by:\n",
      "Lewin Day\n",
      "\n",
      "\n",
      "\n",
      "March 22, 2021\n",
      "\n",
      "\n",
      "\n",
      "\n",
      "\n",
      "\n",
      "\n",
      "\n",
      "When we think about the onward march of automotive technology, headlights aren’t usually the first thing that come to mind.\n",
      "\n",
      "Token score for first sentence: 0.20\n",
      "Lemma score for first sentence: 0.15\n"
     ]
    }
   ],
   "source": [
    "# Splitting our doc variable of article text from above into sentences\n",
    "sentences = list(doc.sents)\n",
    "\n",
    "# Identifing the top 5 frequent tokens was done above and is in variable: NOTE: mostCommonTokens\n",
    "\n",
    "# Identifing the top 5 frequent lemmas was done above and is in variable: NOTE: mostCommonLemmas\n",
    "\n",
    "# Defining our method to score a sentence by token frequency\n",
    "def scoreSentenceByToken(sentence, interestingTokens):\n",
    "    tokensInSentence = [token.text.lower() for token in sentence if not token.is_stop and not token.is_punct and not token.is_space]\n",
    "    countInteresting = sum(1 for token in tokensInSentence if token in interestingTokens)\n",
    "    return countInteresting / len(tokensInSentence) if tokensInSentence else 0\n",
    "\n",
    "# Defining our method to score a sentence by lemma frequency\n",
    "def scoreSentenceByLemma(sentence, interestingLemmas):\n",
    "    lemmasInSentence = [token.lemma_.lower() for token in sentence if not token.is_stop and not token.is_punct and not token.is_space]\n",
    "    countInteresting = sum(1 for lemma in lemmasInSentence if lemma in interestingLemmas)\n",
    "    return countInteresting / len(lemmasInSentence) if lemmasInSentence else 0\n",
    "\n",
    "# Frequent tokens and lemmas from questions 3 and 4\n",
    "frequentTokens = [token for token, _ in mostCommonTokens]\n",
    "frequentLemmas = [lemma for lemma, _ in mostCommonLemmas] \n",
    "\n",
    "# Test the functions with the first sentence\n",
    "firstSentence = sentences[0]\n",
    "tokenScore = scoreSentenceByToken(firstSentence, frequentTokens)\n",
    "lemmaScore = scoreSentenceByLemma(firstSentence, frequentLemmas)\n",
    "\n",
    "# Print results\n",
    "print(\"First Sentence:\")\n",
    "print(firstSentence.text)\n",
    "print()\n",
    "print(f\"Token score for first sentence: {tokenScore:.2f}\")\n",
    "print(f\"Lemma score for first sentence: {lemmaScore:.2f}\")"
   ]
  },
  {
   "cell_type": "markdown",
   "metadata": {},
   "source": [
    "#### Question 6:\n",
    "Make a list containing the scores (using tokens) of every sentence in the article, and plot a histogram with appropriate titles and axis labels of the scores. From your histogram, what seems to be the most common range of scores (put the answer in a comment after your code)?"
   ]
  },
  {
   "cell_type": "code",
   "execution_count": 46,
   "metadata": {},
   "outputs": [
    {
     "name": "stderr",
     "output_type": "stream",
     "text": [
      "C:\\Users\\Lexi\\AppData\\Local\\Temp\\ipykernel_4296\\739926829.py:25: MatplotlibDeprecationWarning: The get_cmap function was deprecated in Matplotlib 3.7 and will be removed in 3.11. Use ``matplotlib.colormaps[name]`` or ``matplotlib.colormaps.get_cmap()`` or ``pyplot.get_cmap()`` instead.\n",
      "  cmap = cm.get_cmap(\"viridis\")\n"
     ]
    },
    {
     "data": {
      "image/png": "[encoded data removed]",
      "text/plain": [
       "<Figure size 1200x700 with 2 Axes>"
      ]
     },
     "metadata": {},
     "output_type": "display_data"
    }
   ],
   "source": [
    "import matplotlib.pyplot as plt\n",
    "import matplotlib.cm as cm\n",
    "import matplotlib.colorbar as mcolorbar\n",
    "import matplotlib.gridspec as gridspec\n",
    "import numpy as np\n",
    "\n",
    "# Calculate scores for all sentences based on tokens\n",
    "tokenScores = [\n",
    "    scoreSentenceByToken(sentence, frequentTokens)\n",
    "    for sentence in sentences\n",
    "]\n",
    "\n",
    "# Create the figure and grid for the plot and colorbar\n",
    "fig = plt.figure(figsize=(12, 7))\n",
    "gs = gridspec.GridSpec(1, 2, width_ratios=[15, 1])  # Wider plot, narrow colorbar\n",
    "ax = fig.add_subplot(gs[0])  # Main plot\n",
    "cax = fig.add_subplot(gs[1])  # Colorbar axis\n",
    "\n",
    "# Plot the histogram\n",
    "counts, bins, patches = ax.hist(\n",
    "    tokenScores, bins=10, edgecolor=\"black\", color=\"skyblue\"\n",
    ")\n",
    "\n",
    "# Apply a color map (e.g., \"viridis\") to bars\n",
    "cmap = cm.get_cmap(\"viridis\")\n",
    "norm = plt.Normalize(counts.min(), counts.max())\n",
    "\n",
    "# Update bar colors based on frequency\n",
    "for patch, count in zip(patches, counts):\n",
    "    patch.set_facecolor(cmap(norm(count)))\n",
    "\n",
    "# Create a ScalarMappable for the colorbar\n",
    "sm = cm.ScalarMappable(cmap=cmap, norm=norm)\n",
    "sm.set_array([])  # Dummy array to enable the color bar\n",
    "cb = fig.colorbar(sm, cax=cax)\n",
    "cb.set_label(\"Bar Intensity\", fontsize=12)\n",
    "\n",
    "# Add labels to each bar\n",
    "for count, patch in zip(counts, patches):\n",
    "    ax.annotate(\n",
    "        f\"{int(count)}\",\n",
    "        xy=(patch.get_x() + patch.get_width() / 2, count),\n",
    "        xytext=(0, 5),\n",
    "        textcoords=\"offset points\",\n",
    "        ha=\"center\",\n",
    "        va=\"bottom\",\n",
    "        fontsize=10,\n",
    "        color=\"black\",\n",
    "    )\n",
    "\n",
    "# Add titles and labels\n",
    "ax.set_title(\"Enhanced Histogram of Sentence Scores (Token-Based)\", fontsize=16, weight=\"bold\")\n",
    "ax.set_xlabel(\"Score\", fontsize=14)\n",
    "ax.set_ylabel(\"Frequency\", fontsize=14)\n",
    "ax.grid(axis=\"y\", linestyle=\"--\", alpha=0.7)\n",
    "\n",
    "plt.tight_layout()\n",
    "plt.show()"
   ]
  },
  {
   "cell_type": "markdown",
   "metadata": {},
   "source": [
    "7. Make a list containing the scores (using lemmas) of every sentence in the article, and plot a histogram with appropriate titles and axis labels of the scores.  From your histogram, what seems to be the most common range of scores (put the answer in a comment after your code)?"
   ]
  },
  {
   "cell_type": "code",
   "execution_count": null,
   "metadata": {},
   "outputs": [],
   "source": []
  },
  {
   "cell_type": "markdown",
   "metadata": {},
   "source": [
    "8. Which tokens and lexems would be ommitted from the lists generated in questions 3 and 4 if we only wanted to consider nouns as interesting words?  How might we change the code to only consider nouns? Put your answer in this Markdown cell (you can edit it by double clicking it)."
   ]
  }
 ],
 "metadata": {
  "kernelspec": {
   "display_name": ".env",
   "language": "python",
   "name": "python3"
  },
  "language_info": {
   "codemirror_mode": {
    "name": "ipython",
    "version": 3
   },
   "file_extension": ".py",
   "mimetype": "text/x-python",
   "name": "python",
   "nbconvert_exporter": "python",
   "pygments_lexer": "ipython3",
   "version": "3.12.7"
  }
 },
 "nbformat": 4,
 "nbformat_minor": 4
}
